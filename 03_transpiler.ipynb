{
 "cells": [
  {
   "cell_type": "code",
   "execution_count": 73,
   "metadata": {},
   "outputs": [],
   "source": [
    "# default_exp transplier"
   ]
  },
  {
   "cell_type": "markdown",
   "metadata": {},
   "source": [
    "# longtail\n",
    "\n",
    "> API details."
   ]
  },
  {
   "cell_type": "code",
   "execution_count": 74,
   "metadata": {},
   "outputs": [],
   "source": []
  },
  {
   "cell_type": "code",
   "execution_count": 3,
   "outputs": [],
   "source": [
    "#export\n",
    "import os\n",
    "from dateutil import parser\n",
    "from collections import namedtuple"
   ],
   "metadata": {
    "collapsed": false,
    "pycharm": {
     "name": "#%%\n"
    }
   }
  },
  {
   "cell_type": "code",
   "execution_count": null,
   "outputs": [],
   "source": [],
   "metadata": {
    "collapsed": false,
    "pycharm": {
     "name": "#%%\n"
    }
   }
  },
  {
   "cell_type": "code",
   "execution_count": 40,
   "outputs": [
    {
     "name": "stdout",
     "output_type": "stream",
     "text": [
      "with BlockTracker(\"../data/00000000.txt\",stanza=\"Mid file 2\") as f:\n",
      "\tf(print)(\"hello\")\n",
      "\tf(print)(\"world\")\n",
      "\tf(capture)(\"hello\",\"world\")\n",
      "\tf(print)(\"human fish\")\n",
      "\tf(waste_some_time)(100)\n",
      "with BlockTracker(\"../data/00000000.txt\",stanza=\"Mid file 2\") as f:\n",
      "\tf(print)(\"block 2\")\n",
      "\tf(waste_some_time)(300)\n"
     ]
    }
   ],
   "source": [
    "\n",
    "\n"
   ],
   "metadata": {
    "collapsed": false,
    "pycharm": {
     "name": "#%%\n"
    }
   }
  },
  {
   "cell_type": "code",
   "execution_count": null,
   "outputs": [],
   "source": [],
   "metadata": {
    "collapsed": false,
    "pycharm": {
     "name": "#%%\n"
    }
   }
  },
  {
   "cell_type": "code",
   "execution_count": null,
   "outputs": [],
   "source": [
    "#export\n",
    "\n",
    "Blameline = namedtuple(\"Blameline\",\"hash date func sig line\")"
   ],
   "metadata": {
    "collapsed": false,
    "pycharm": {
     "name": "#%%\n"
    }
   }
  },
  {
   "cell_type": "code",
   "execution_count": 85,
   "outputs": [],
   "source": [
    "#export\n",
    "\n",
    "class TransplileGroup:\n",
    "\n",
    "    def updateMeta(self,meta):\n",
    "        self.meta = meta\n",
    "        if \"name\" in meta:\n",
    "            self.name = meta[\"name\"].strip() + f\"_{self.counter}\"\n",
    "\n",
    "\n",
    "\n",
    "    def __init__(self,  meta,counter):\n",
    "        self.lines = []\n",
    "        self.updateMeta(meta)\n",
    "        self.counter = counter\n",
    "        if \"name\" in meta:\n",
    "            self.name = meta[\"name\"].strip() + f\"_{self.counter}\"\n",
    "        else:\n",
    "            self.name = f\"myfunc_{counter}\"\n",
    "\n",
    "    def addLine(self,line:Blameline):\n",
    "        self.lines.append(line)\n",
    "\n",
    "\n",
    "    def postProcess(self, writer):\n",
    "        #print(\"in the post\",group,len(group))\n",
    "        dates = [x.date for x in self.lines]\n",
    "\n",
    "        if len(self.lines)>0:\n",
    "            # using max() + lambda\n",
    "            # to get tuple info. of maximum value tuple\n",
    "            res = max(self.lines, key = lambda i : i[1])\n",
    "\n",
    "            # printing result\n",
    "            #print (\"The name with maximum score is : \" + res)\n",
    "            writer.write(f\"\\ndef {self.name}():\\n\")\n",
    "            writer.write(f\"\\twith BlockTracker(\\\"data/{res.hash}.txt\\\",stanza=\\\"Mid file 2\\\") as f:\\n\")\n",
    "            for x in self.lines:\n",
    "                writer.write(f\"\\t\\tf({x.func})({x.sig})\\n\")\n",
    "\n"
   ],
   "metadata": {
    "collapsed": false,
    "pycharm": {
     "name": "#%%\n"
    }
   }
  },
  {
   "cell_type": "code",
   "execution_count": 89,
   "outputs": [],
   "source": [
    "#export\n",
    "\n",
    "\n",
    "\n",
    "class Transpiler(object):\n",
    "\n",
    "\n",
    "\n",
    "    def postMeta(self,line):\n",
    "        line = line[1:]\n",
    "        parts = line.split(\":\")\n",
    "        if len(parts) > 1:\n",
    "            self.meta[parts[0].strip()] = \":\".join(parts[1:]).rstrip()\n",
    "\n",
    "\n",
    "    def parseBlame(self,line):\n",
    "        st = line.index(\" (\")\n",
    "        et = line.index(\") \")\n",
    "\n",
    "        hash = line[:st]\n",
    "        label = line[st+2:et-1]\n",
    "        prog = line[et+2:]\n",
    "\n",
    "        timestamp = \" \".join(label.split(\" \")[-4:])\n",
    "        dt_obj = parser.parse(timestamp)\n",
    "\n",
    "        if prog[0] == \"@\":\n",
    "            self.postMeta(prog)\n",
    "            return None, False\n",
    "\n",
    "        items = prog.split(\"\\t\")\n",
    "        if len(items) < 2:\n",
    "            return None , True\n",
    "\n",
    "        func = items[0]\n",
    "        sig = items[1]\n",
    "        sig = sig[:-1]\n",
    "\n",
    "        return Blameline(hash=hash,date=timestamp,func=func,sig = sig,line = line), False\n",
    "\n",
    "    def parse(self):\n",
    "        groups = []\n",
    "        cmd = 'cd {path};git blame {fname}'.format(\n",
    "                    path=self.root,\n",
    "                    fname=self.file_name)\n",
    "        with os.popen(cmd) as process:\n",
    "            blame =  process.readlines()\n",
    "\n",
    "\n",
    "        with  open(self.outfile, 'w') as writer:\n",
    "\n",
    "\n",
    "            functionCount = 0\n",
    "            code_group = TransplileGroup(self.meta,functionCount)\n",
    "            for x in blame:\n",
    "                fields, isEnd = self.parseBlame(x)\n",
    "                if isEnd:\n",
    "                    code_group.updateMeta(self.meta)\n",
    "                    if len(code_group.lines) > 0:\n",
    "                        functionCount += 1\n",
    "                        groups.append(code_group)\n",
    "                        code_group = TransplileGroup(self.meta,functionCount)\n",
    "                elif  fields is not None:\n",
    "                    code_group.addLine(fields)\n",
    "\n",
    "            if len(code_group.lines) > 0:\n",
    "                code_group.updateMeta(self.meta)\n",
    "                groups.append(code_group)\n",
    "\n",
    "            writer.write(f\"# AUTOGENERATED! DO NOT EDIT! File to edit:{self.file_name} (unless otherwise specified).\\n\")\n",
    "            glist = \"\\\", \\\"\".join([x.name for x in groups])\n",
    "            writer.write(f\"__all__ = [\\\"{glist}\\\"]\\n\\n\")\n",
    "\n",
    "            writer.write(\"\"\"\n",
    "from longtail.engine import BlockTracker\n",
    "from longtail.commonlib import waste_some_time, lastWrapper, capture\n",
    "\n",
    "\"\"\")\n",
    "            for group in groups:\n",
    "                group.postProcess(writer)\n",
    "\n",
    "\n",
    "            writer.write(\"\\n\\nif __name__ == \\\"__main__\\\":\\n\")\n",
    "            for group in groups:\n",
    "                writer.write(f\"\\t{group.name}()\\n\")\n",
    "                print(group.name)\n",
    "\n",
    "\n",
    "    def __init__(self,  root,file_name,out_file):\n",
    "        self.file_name = file_name\n",
    "        self.root = root\n",
    "        self.outfile = out_file\n",
    "        self.meta = {}\n"
   ],
   "metadata": {
    "collapsed": false,
    "pycharm": {
     "name": "#%%\n"
    }
   }
  },
  {
   "cell_type": "code",
   "execution_count": 90,
   "outputs": [
    {
     "name": "stdout",
     "output_type": "stream",
     "text": [
      "myfunc_0\n",
      "deepQuerry_1\n"
     ]
    }
   ],
   "source": [
    "#hide\n",
    "tr = Transpiler(\".\",\"test/src/basic.txt\",\"robogen/basic.py\")\n",
    "tr.parse()"
   ],
   "metadata": {
    "collapsed": false,
    "pycharm": {
     "name": "#%%\n"
    }
   }
  },
  {
   "cell_type": "code",
   "execution_count": 87,
   "outputs": [
    {
     "name": "stdout",
     "output_type": "stream",
     "text": [
      "# AUTOGENERATED! DO NOT EDIT! File to edit:test/src/basic.txt (unless otherwise specified).\r\n",
      "__all__ = [\"myfunc_0\", \"deepQuerry_1\"]\r\n",
      "\r\n",
      "\r\n",
      "from longtail.engine import BlockTracker\r\n",
      "from longtail.commonlib import waste_some_time, lastWrapper, capture\r\n",
      "\r\n",
      "\r\n",
      "def myfunc_0():\r\n",
      "\twith BlockTracker(\"data/ab568dce.txt\",stanza=\"Mid file 2\") as f:\r\n",
      "\t\tf(print)(\"hello\")\r\n",
      "\t\tf(print)(\"world\")\r\n",
      "\t\tf(capture)(\"hello\",\"world\")\r\n",
      "\t\tf(print)(\"human fish\")\r\n",
      "\t\tf(waste_some_time)(100)\r\n",
      "\r\n",
      "def deepQuerry_1():\r\n",
      "\twith BlockTracker(\"data/ab568dce.txt\",stanza=\"Mid file 2\") as f:\r\n",
      "\t\tf(print)(\"block 2\")\r\n",
      "\t\tf(waste_some_time)(300)\r\n",
      "\r\n",
      "\r\n",
      "if __name__ == ‘__main__’:\r\n",
      "\tmyfunc_0()\r\n",
      "\tdeepQuerry_1()\r\n"
     ]
    }
   ],
   "source": [
    "#hide\n",
    "!cat robogen/basic.py"
   ],
   "metadata": {
    "collapsed": false,
    "pycharm": {
     "name": "#%%\n"
    }
   }
  },
  {
   "cell_type": "code",
   "execution_count": 62,
   "outputs": [
    {
     "ename": "ImportError",
     "evalue": "cannot import name 'deepQuerry_1' from 'robogen.basic' (/Users/arthurconner/code/midtail/robogen/basic.py)",
     "output_type": "error",
     "traceback": [
      "\u001B[0;31m---------------------------------------------------------------------------\u001B[0m",
      "\u001B[0;31mImportError\u001B[0m                               Traceback (most recent call last)",
      "\u001B[0;32m/var/folders/pn/37nlvq6s71n5zqv01hjfks1r0000gn/T/ipykernel_15742/3851737638.py\u001B[0m in \u001B[0;36m<module>\u001B[0;34m\u001B[0m\n\u001B[0;32m----> 1\u001B[0;31m \u001B[0;32mfrom\u001B[0m \u001B[0mrobogen\u001B[0m\u001B[0;34m.\u001B[0m\u001B[0mbasic\u001B[0m \u001B[0;32mimport\u001B[0m \u001B[0mdeepQuerry_1\u001B[0m\u001B[0;34m\u001B[0m\u001B[0;34m\u001B[0m\u001B[0m\n\u001B[0m\u001B[1;32m      2\u001B[0m \u001B[0;34m\u001B[0m\u001B[0m\n",
      "\u001B[0;31mImportError\u001B[0m: cannot import name 'deepQuerry_1' from 'robogen.basic' (/Users/arthurconner/code/midtail/robogen/basic.py)"
     ]
    }
   ],
   "source": [
    "from robogen.basic import deepQuerry_1\n"
   ],
   "metadata": {
    "collapsed": false,
    "pycharm": {
     "name": "#%%\n"
    }
   }
  },
  {
   "cell_type": "code",
   "execution_count": 36,
   "outputs": [],
   "source": [],
   "metadata": {
    "collapsed": false,
    "pycharm": {
     "name": "#%%\n"
    }
   }
  },
  {
   "cell_type": "code",
   "execution_count": 38,
   "outputs": [
    {
     "name": "stdout",
     "output_type": "stream",
     "text": [
      "hello\n",
      "world\n",
      "hello\n",
      "world\n",
      "human fish\n"
     ]
    }
   ],
   "source": [],
   "metadata": {
    "collapsed": false,
    "pycharm": {
     "name": "#%%\n"
    }
   }
  },
  {
   "cell_type": "code",
   "execution_count": 91,
   "outputs": [
    {
     "name": "stdout",
     "output_type": "stream",
     "text": [
      "hello\r\n",
      "world\r\n",
      "hello\r\n",
      "world\r\n",
      "human fish\r\n",
      "block 2\r\n"
     ]
    }
   ],
   "source": [
    "#hide\n",
    "!python robogen/basic.py"
   ],
   "metadata": {
    "collapsed": false,
    "pycharm": {
     "name": "#%%\n"
    }
   }
  },
  {
   "cell_type": "code",
   "execution_count": 80,
   "outputs": [],
   "source": [
    "\n"
   ],
   "metadata": {
    "collapsed": false,
    "pycharm": {
     "name": "#%%\n"
    }
   }
  },
  {
   "cell_type": "code",
   "execution_count": 80,
   "outputs": [],
   "source": [],
   "metadata": {
    "collapsed": false,
    "pycharm": {
     "name": "#%%\n"
    }
   }
  },
  {
   "cell_type": "code",
   "execution_count": 81,
   "outputs": [
    {
     "name": "stdout",
     "output_type": "stream",
     "text": [
      "hello\n",
      "world\n",
      "human fish\n"
     ]
    },
    {
     "data": {
      "text/plain": "              name         signature value    start     total        batch  \\\n0          capture  'hello', 'world'  None  4860.93  0.000340  4860.931309   \n1            print      'human fish'  None  4860.93  0.000021  4860.931309   \n2  waste_some_time               100  None  4860.93  0.264946  4860.931309   \n\n       stanza  \n0  Mid file 2  \n1  Mid file 2  \n2  Mid file 2  ",
      "text/html": "<div>\n<style scoped>\n    .dataframe tbody tr th:only-of-type {\n        vertical-align: middle;\n    }\n\n    .dataframe tbody tr th {\n        vertical-align: top;\n    }\n\n    .dataframe thead th {\n        text-align: right;\n    }\n</style>\n<table border=\"1\" class=\"dataframe\">\n  <thead>\n    <tr style=\"text-align: right;\">\n      <th></th>\n      <th>name</th>\n      <th>signature</th>\n      <th>value</th>\n      <th>start</th>\n      <th>total</th>\n      <th>batch</th>\n      <th>stanza</th>\n    </tr>\n  </thead>\n  <tbody>\n    <tr>\n      <th>0</th>\n      <td>capture</td>\n      <td>'hello', 'world'</td>\n      <td>None</td>\n      <td>4860.93</td>\n      <td>0.000340</td>\n      <td>4860.931309</td>\n      <td>Mid file 2</td>\n    </tr>\n    <tr>\n      <th>1</th>\n      <td>print</td>\n      <td>'human fish'</td>\n      <td>None</td>\n      <td>4860.93</td>\n      <td>0.000021</td>\n      <td>4860.931309</td>\n      <td>Mid file 2</td>\n    </tr>\n    <tr>\n      <th>2</th>\n      <td>waste_some_time</td>\n      <td>100</td>\n      <td>None</td>\n      <td>4860.93</td>\n      <td>0.264946</td>\n      <td>4860.931309</td>\n      <td>Mid file 2</td>\n    </tr>\n  </tbody>\n</table>\n</div>"
     },
     "execution_count": 81,
     "metadata": {},
     "output_type": "execute_result"
    }
   ],
   "source": [],
   "metadata": {
    "collapsed": false,
    "pycharm": {
     "name": "#%%\n"
    }
   }
  },
  {
   "cell_type": "code",
   "execution_count": 81,
   "outputs": [],
   "source": [],
   "metadata": {
    "collapsed": false,
    "pycharm": {
     "name": "#%%\n"
    }
   }
  },
  {
   "cell_type": "code",
   "execution_count": 81,
   "outputs": [],
   "source": [],
   "metadata": {
    "collapsed": false,
    "pycharm": {
     "name": "#%%\n"
    }
   }
  },
  {
   "cell_type": "code",
   "execution_count": 81,
   "outputs": [],
   "source": [],
   "metadata": {
    "collapsed": false,
    "pycharm": {
     "name": "#%%\n"
    }
   }
  },
  {
   "cell_type": "code",
   "execution_count": 81,
   "outputs": [],
   "source": [],
   "metadata": {
    "collapsed": false,
    "pycharm": {
     "name": "#%%\n"
    }
   }
  },
  {
   "cell_type": "code",
   "execution_count": 81,
   "outputs": [],
   "source": [],
   "metadata": {
    "collapsed": false,
    "pycharm": {
     "name": "#%%\n"
    }
   }
  },
  {
   "cell_type": "code",
   "execution_count": 81,
   "outputs": [],
   "source": [],
   "metadata": {
    "collapsed": false,
    "pycharm": {
     "name": "#%%\n"
    }
   }
  },
  {
   "cell_type": "code",
   "execution_count": 81,
   "outputs": [],
   "source": [],
   "metadata": {
    "collapsed": false,
    "pycharm": {
     "name": "#%%\n"
    }
   }
  }
 ],
 "metadata": {
  "kernelspec": {
   "display_name": "Python 3",
   "language": "python",
   "name": "python3"
  }
 },
 "nbformat": 4,
 "nbformat_minor": 2
}