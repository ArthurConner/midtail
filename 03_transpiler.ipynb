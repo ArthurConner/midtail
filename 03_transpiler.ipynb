{
 "cells": [
  {
   "cell_type": "code",
   "execution_count": 73,
   "metadata": {},
   "outputs": [],
   "source": [
    "# default_exp transplier"
   ]
  },
  {
   "cell_type": "markdown",
   "metadata": {},
   "source": [
    "# longtail\n",
    "\n",
    "> API details."
   ]
  },
  {
   "cell_type": "code",
   "execution_count": 74,
   "metadata": {},
   "outputs": [],
   "source": []
  },
  {
   "cell_type": "code",
   "execution_count": 79,
   "outputs": [],
   "source": [
    "#export\n",
    "import os\n",
    "from dateutil import parser\n",
    "from collections import namedtuple"
   ],
   "metadata": {
    "collapsed": false,
    "pycharm": {
     "name": "#%%\n"
    }
   }
  },
  {
   "cell_type": "code",
   "execution_count": null,
   "outputs": [],
   "source": [],
   "metadata": {
    "collapsed": false,
    "pycharm": {
     "name": "#%%\n"
    }
   }
  },
  {
   "cell_type": "code",
   "execution_count": 40,
   "outputs": [
    {
     "name": "stdout",
     "output_type": "stream",
     "text": [
      "with BlockTracker(\"../data/00000000.txt\",stanza=\"Mid file 2\") as f:\n",
      "\tf(print)(\"hello\")\n",
      "\tf(print)(\"world\")\n",
      "\tf(capture)(\"hello\",\"world\")\n",
      "\tf(print)(\"human fish\")\n",
      "\tf(waste_some_time)(100)\n",
      "with BlockTracker(\"../data/00000000.txt\",stanza=\"Mid file 2\") as f:\n",
      "\tf(print)(\"block 2\")\n",
      "\tf(waste_some_time)(300)\n"
     ]
    }
   ],
   "source": [
    "\n",
    "\n"
   ],
   "metadata": {
    "collapsed": false,
    "pycharm": {
     "name": "#%%\n"
    }
   }
  },
  {
   "cell_type": "code",
   "execution_count": null,
   "outputs": [],
   "source": [],
   "metadata": {
    "collapsed": false,
    "pycharm": {
     "name": "#%%\n"
    }
   }
  },
  {
   "cell_type": "code",
   "execution_count": null,
   "outputs": [],
   "source": [],
   "metadata": {
    "collapsed": false,
    "pycharm": {
     "name": "#%%\n"
    }
   }
  },
  {
   "cell_type": "code",
   "execution_count": null,
   "outputs": [],
   "source": [],
   "metadata": {
    "collapsed": false,
    "pycharm": {
     "name": "#%%\n"
    }
   }
  },
  {
   "cell_type": "code",
   "execution_count": 94,
   "outputs": [],
   "source": [
    "#export\n",
    "\n",
    "Blameline = namedtuple(\"Blameline\",\"hash date func sig line\")\n",
    "\n",
    "class Transpiler(object):\n",
    "\n",
    "    def parseBlame(self,line):\n",
    "        st = line.index(\" (\")\n",
    "        et = line.index(\") \")\n",
    "\n",
    "        hash = line[:st]\n",
    "        label = line[st+2:et-1]\n",
    "        prog = line[et+2:]\n",
    "\n",
    "        timestamp = \" \".join(label.split(\" \")[-4:])\n",
    "        dt_obj = parser.parse(timestamp)\n",
    "\n",
    "\n",
    "        items = prog.split(\"\\t\")\n",
    "        if len(items) < 2:\n",
    "            return None\n",
    "\n",
    "        func = items[0]\n",
    "        sig = items[1]\n",
    "        sig = sig[:-1]\n",
    "\n",
    "        return Blameline(hash=hash,date=timestamp,func=func,sig = sig,line = line)\n",
    "\n",
    "    def postProcess(self,group,writer):\n",
    "        #print(\"in the post\",group,len(group))\n",
    "        dates = [x.date for x in group]\n",
    "\n",
    "        if len(group)>0:\n",
    "            # using max() + lambda\n",
    "            # to get tuple info. of maximum value tuple\n",
    "            res = max(group, key = lambda i : i[1])\n",
    "\n",
    "            # printing result\n",
    "            #print (\"The name with maximum score is : \" + res)\n",
    "            writer.write(f\"\\nwith BlockTracker(\\\"data/{res.hash}.txt\\\",stanza=\\\"Mid file 2\\\") as f:\\n\")\n",
    "            for x in group:\n",
    "                writer.write(f\"\\tf({x.func})({x.sig})\\n\")\n",
    "\n",
    "    def parse(self):\n",
    "        blame = []\n",
    "        cmd = 'cd {path};git blame {fname}'.format(\n",
    "                    path=self.root,\n",
    "                    fname=self.file_name)\n",
    "        with os.popen(cmd) as process:\n",
    "            blame =  process.readlines()\n",
    "\n",
    "        group = []\n",
    "        with  open(self.outfile, 'w') as writer:\n",
    "            writer.write(\"\"\"\n",
    "from longtail.engine import BlockTracker\n",
    "from longtail.commonlib import waste_some_time, lastWrapper, capture\n",
    "\n",
    "\"\"\")\n",
    "            for x in blame:\n",
    "                fields = self.parseBlame(x)\n",
    "                if fields is None:\n",
    "                    self.postProcess(group,writer)\n",
    "                    group = []\n",
    "                else:\n",
    "                    group.append(fields)\n",
    "            self.postProcess(group,writer)\n",
    "\n",
    "\n",
    "    def __init__(self,  root,file_name,out_file):\n",
    "        self.file_name = file_name\n",
    "        self.root = root\n",
    "        self.outfile = out_file\n"
   ],
   "metadata": {
    "collapsed": false,
    "pycharm": {
     "name": "#%%\n"
    }
   }
  },
  {
   "cell_type": "code",
   "execution_count": 95,
   "outputs": [],
   "source": [
    "#hide\n",
    "tr = Transpiler(\".\",\"test/src/basic.txt\",\"test/transpile/basic.py\")\n",
    "tr.parse()"
   ],
   "metadata": {
    "collapsed": false,
    "pycharm": {
     "name": "#%%\n"
    }
   }
  },
  {
   "cell_type": "code",
   "execution_count": 96,
   "outputs": [
    {
     "name": "stdout",
     "output_type": "stream",
     "text": [
      "hello\r\n",
      "world\r\n",
      "hello\r\n",
      "world\r\n",
      "human fish\r\n",
      "block 2\r\n"
     ]
    }
   ],
   "source": [
    "#hide\n",
    "!python test/transpile/basic.py"
   ],
   "metadata": {
    "collapsed": false,
    "pycharm": {
     "name": "#%%\n"
    }
   }
  },
  {
   "cell_type": "code",
   "execution_count": 78,
   "outputs": [],
   "source": [],
   "metadata": {
    "collapsed": false,
    "pycharm": {
     "name": "#%%\n"
    }
   }
  },
  {
   "cell_type": "code",
   "execution_count": 78,
   "outputs": [],
   "source": [],
   "metadata": {
    "collapsed": false,
    "pycharm": {
     "name": "#%%\n"
    }
   }
  },
  {
   "cell_type": "code",
   "execution_count": 85,
   "outputs": [
    {
     "name": "stdout",
     "output_type": "stream",
     "text": [
      "hello\n",
      "world\n",
      "hello\n",
      "world\n",
      "human fish\n"
     ]
    },
    {
     "data": {
      "text/plain": "              name         signature value    start     total       batch  \\\n0            print           'hello'  None  5642.74  0.000235  5642.74247   \n1            print           'world'  None  5642.74  0.000527  5642.74247   \n2          capture  'hello', 'world'  None  5642.74  0.000367  5642.74247   \n3            print      'human fish'  None  5642.74  0.000010  5642.74247   \n4  waste_some_time               100  None  5642.74  0.266837  5642.74247   \n\n       stanza  \n0  Mid file 2  \n1  Mid file 2  \n2  Mid file 2  \n3  Mid file 2  \n4  Mid file 2  ",
      "text/html": "<div>\n<style scoped>\n    .dataframe tbody tr th:only-of-type {\n        vertical-align: middle;\n    }\n\n    .dataframe tbody tr th {\n        vertical-align: top;\n    }\n\n    .dataframe thead th {\n        text-align: right;\n    }\n</style>\n<table border=\"1\" class=\"dataframe\">\n  <thead>\n    <tr style=\"text-align: right;\">\n      <th></th>\n      <th>name</th>\n      <th>signature</th>\n      <th>value</th>\n      <th>start</th>\n      <th>total</th>\n      <th>batch</th>\n      <th>stanza</th>\n    </tr>\n  </thead>\n  <tbody>\n    <tr>\n      <th>0</th>\n      <td>print</td>\n      <td>'hello'</td>\n      <td>None</td>\n      <td>5642.74</td>\n      <td>0.000235</td>\n      <td>5642.74247</td>\n      <td>Mid file 2</td>\n    </tr>\n    <tr>\n      <th>1</th>\n      <td>print</td>\n      <td>'world'</td>\n      <td>None</td>\n      <td>5642.74</td>\n      <td>0.000527</td>\n      <td>5642.74247</td>\n      <td>Mid file 2</td>\n    </tr>\n    <tr>\n      <th>2</th>\n      <td>capture</td>\n      <td>'hello', 'world'</td>\n      <td>None</td>\n      <td>5642.74</td>\n      <td>0.000367</td>\n      <td>5642.74247</td>\n      <td>Mid file 2</td>\n    </tr>\n    <tr>\n      <th>3</th>\n      <td>print</td>\n      <td>'human fish'</td>\n      <td>None</td>\n      <td>5642.74</td>\n      <td>0.000010</td>\n      <td>5642.74247</td>\n      <td>Mid file 2</td>\n    </tr>\n    <tr>\n      <th>4</th>\n      <td>waste_some_time</td>\n      <td>100</td>\n      <td>None</td>\n      <td>5642.74</td>\n      <td>0.266837</td>\n      <td>5642.74247</td>\n      <td>Mid file 2</td>\n    </tr>\n  </tbody>\n</table>\n</div>"
     },
     "execution_count": 85,
     "metadata": {},
     "output_type": "execute_result"
    }
   ],
   "source": [],
   "metadata": {
    "collapsed": false,
    "pycharm": {
     "name": "#%%\n"
    }
   }
  },
  {
   "cell_type": "code",
   "execution_count": 79,
   "outputs": [],
   "source": [],
   "metadata": {
    "collapsed": false,
    "pycharm": {
     "name": "#%%\n"
    }
   }
  },
  {
   "cell_type": "code",
   "execution_count": 80,
   "outputs": [],
   "source": [
    "\n"
   ],
   "metadata": {
    "collapsed": false,
    "pycharm": {
     "name": "#%%\n"
    }
   }
  },
  {
   "cell_type": "code",
   "execution_count": 80,
   "outputs": [],
   "source": [],
   "metadata": {
    "collapsed": false,
    "pycharm": {
     "name": "#%%\n"
    }
   }
  },
  {
   "cell_type": "code",
   "execution_count": 81,
   "outputs": [
    {
     "name": "stdout",
     "output_type": "stream",
     "text": [
      "hello\n",
      "world\n",
      "human fish\n"
     ]
    },
    {
     "data": {
      "text/plain": "              name         signature value    start     total        batch  \\\n0          capture  'hello', 'world'  None  4860.93  0.000340  4860.931309   \n1            print      'human fish'  None  4860.93  0.000021  4860.931309   \n2  waste_some_time               100  None  4860.93  0.264946  4860.931309   \n\n       stanza  \n0  Mid file 2  \n1  Mid file 2  \n2  Mid file 2  ",
      "text/html": "<div>\n<style scoped>\n    .dataframe tbody tr th:only-of-type {\n        vertical-align: middle;\n    }\n\n    .dataframe tbody tr th {\n        vertical-align: top;\n    }\n\n    .dataframe thead th {\n        text-align: right;\n    }\n</style>\n<table border=\"1\" class=\"dataframe\">\n  <thead>\n    <tr style=\"text-align: right;\">\n      <th></th>\n      <th>name</th>\n      <th>signature</th>\n      <th>value</th>\n      <th>start</th>\n      <th>total</th>\n      <th>batch</th>\n      <th>stanza</th>\n    </tr>\n  </thead>\n  <tbody>\n    <tr>\n      <th>0</th>\n      <td>capture</td>\n      <td>'hello', 'world'</td>\n      <td>None</td>\n      <td>4860.93</td>\n      <td>0.000340</td>\n      <td>4860.931309</td>\n      <td>Mid file 2</td>\n    </tr>\n    <tr>\n      <th>1</th>\n      <td>print</td>\n      <td>'human fish'</td>\n      <td>None</td>\n      <td>4860.93</td>\n      <td>0.000021</td>\n      <td>4860.931309</td>\n      <td>Mid file 2</td>\n    </tr>\n    <tr>\n      <th>2</th>\n      <td>waste_some_time</td>\n      <td>100</td>\n      <td>None</td>\n      <td>4860.93</td>\n      <td>0.264946</td>\n      <td>4860.931309</td>\n      <td>Mid file 2</td>\n    </tr>\n  </tbody>\n</table>\n</div>"
     },
     "execution_count": 81,
     "metadata": {},
     "output_type": "execute_result"
    }
   ],
   "source": [],
   "metadata": {
    "collapsed": false,
    "pycharm": {
     "name": "#%%\n"
    }
   }
  },
  {
   "cell_type": "code",
   "execution_count": 81,
   "outputs": [],
   "source": [],
   "metadata": {
    "collapsed": false,
    "pycharm": {
     "name": "#%%\n"
    }
   }
  },
  {
   "cell_type": "code",
   "execution_count": 81,
   "outputs": [],
   "source": [],
   "metadata": {
    "collapsed": false,
    "pycharm": {
     "name": "#%%\n"
    }
   }
  },
  {
   "cell_type": "code",
   "execution_count": 81,
   "outputs": [],
   "source": [],
   "metadata": {
    "collapsed": false,
    "pycharm": {
     "name": "#%%\n"
    }
   }
  },
  {
   "cell_type": "code",
   "execution_count": 81,
   "outputs": [],
   "source": [],
   "metadata": {
    "collapsed": false,
    "pycharm": {
     "name": "#%%\n"
    }
   }
  },
  {
   "cell_type": "code",
   "execution_count": 81,
   "outputs": [],
   "source": [],
   "metadata": {
    "collapsed": false,
    "pycharm": {
     "name": "#%%\n"
    }
   }
  },
  {
   "cell_type": "code",
   "execution_count": 81,
   "outputs": [],
   "source": [],
   "metadata": {
    "collapsed": false,
    "pycharm": {
     "name": "#%%\n"
    }
   }
  },
  {
   "cell_type": "code",
   "execution_count": 81,
   "outputs": [],
   "source": [],
   "metadata": {
    "collapsed": false,
    "pycharm": {
     "name": "#%%\n"
    }
   }
  }
 ],
 "metadata": {
  "kernelspec": {
   "display_name": "Python 3",
   "language": "python",
   "name": "python3"
  }
 },
 "nbformat": 4,
 "nbformat_minor": 2
}