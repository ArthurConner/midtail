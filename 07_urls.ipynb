{
 "cells": [
  {
   "cell_type": "code",
   "execution_count": 2,
   "metadata": {},
   "outputs": [],
   "source": [
    "# default_exp urls"
   ]
  },
  {
   "cell_type": "markdown",
   "metadata": {},
   "source": [
    "## URL\n",
    "###longtail URL Configuration\n",
    "\n",
    "The `urlpatterns` list routes URLs to views. For more information please see:\n",
    "    https://docs.djangoproject.com/en/3.1/topics/http/urls/\n",
    "Examples:\n",
    "Function views\n",
    "    1. Add an import:  from my_app import views\n",
    "    2. Add a URL to urlpatterns:  path('', views.home, name='home')\n",
    "Class-based views\n",
    "    1. Add an import:  from other_app.views import Home\n",
    "    2. Add a URL to urlpatterns:  path('', Home.as_view(), name='home')\n",
    "Including another URLconf\n",
    "    1. Import the include() function: from django.urls import include, path\n",
    "    2. Add a URL to urlpatterns:  path('blog/', include('blog.urls'))\n"
   ]
  },
  {
   "cell_type": "code",
   "execution_count": 74,
   "metadata": {},
   "outputs": [],
   "source": []
  },
  {
   "cell_type": "code",
   "execution_count": 1,
   "outputs": [
    {
     "ename": "ModuleNotFoundError",
     "evalue": "No module named 'django'",
     "output_type": "error",
     "traceback": [
      "\u001B[0;31m---------------------------------------------------------------------------\u001B[0m",
      "\u001B[0;31mModuleNotFoundError\u001B[0m                       Traceback (most recent call last)",
      "\u001B[0;32m/var/folders/34/kz882qt92lg2ncwsb7z_94j40000gn/T/ipykernel_87205/3451351884.py\u001B[0m in \u001B[0;36m<module>\u001B[0;34m\u001B[0m\n\u001B[1;32m      2\u001B[0m \u001B[0;32mimport\u001B[0m \u001B[0mos\u001B[0m\u001B[0;34m\u001B[0m\u001B[0;34m\u001B[0m\u001B[0m\n\u001B[1;32m      3\u001B[0m \u001B[0;34m\u001B[0m\u001B[0m\n\u001B[0;32m----> 4\u001B[0;31m \u001B[0;32mfrom\u001B[0m \u001B[0mdjango\u001B[0m\u001B[0;34m.\u001B[0m\u001B[0mcore\u001B[0m\u001B[0;34m.\u001B[0m\u001B[0masgi\u001B[0m \u001B[0;32mimport\u001B[0m \u001B[0mget_asgi_application\u001B[0m\u001B[0;34m\u001B[0m\u001B[0;34m\u001B[0m\u001B[0m\n\u001B[0m",
      "\u001B[0;31mModuleNotFoundError\u001B[0m: No module named 'django'"
     ]
    }
   ],
   "source": [
    "#export\n",
    "from django.contrib import admin\n",
    "from django.urls import path\n"
   ],
   "metadata": {
    "collapsed": false,
    "pycharm": {
     "name": "#%%\n"
    }
   }
  },
  {
   "cell_type": "code",
   "execution_count": null,
   "outputs": [],
   "source": [
    "#export\n",
    "urlpatterns = [\n",
    "    path('admin/', admin.site.urls),\n",
    "]"
   ],
   "metadata": {
    "collapsed": false,
    "pycharm": {
     "name": "#%%\n"
    }
   }
  },
  {
   "cell_type": "code",
   "execution_count": 1,
   "outputs": [],
   "source": [
    "\n"
   ],
   "metadata": {
    "collapsed": false,
    "pycharm": {
     "name": "#%%\n"
    }
   }
  }
 ],
 "metadata": {
  "kernelspec": {
   "display_name": "Python 3",
   "language": "python",
   "name": "python3"
  }
 },
 "nbformat": 4,
 "nbformat_minor": 2
}