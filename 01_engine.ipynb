{
 "cells": [
  {
   "cell_type": "code",
   "execution_count": 73,
   "metadata": {},
   "outputs": [],
   "source": [
    "# default_exp engine"
   ]
  },
  {
   "cell_type": "markdown",
   "metadata": {},
   "source": [
    "# longtail\n",
    "\n",
    "> API details."
   ]
  },
  {
   "cell_type": "code",
   "execution_count": 74,
   "metadata": {},
   "outputs": [],
   "source": [
    "#hide\n",
    "from nbdev.showdoc import *"
   ]
  },
  {
   "cell_type": "code",
   "execution_count": 75,
   "outputs": [],
   "source": [
    "#export\n",
    "import functools\n",
    "import time\n",
    "from collections import namedtuple\n",
    "import csv\n",
    "import pandas as pd\n",
    "from pathlib import Path"
   ],
   "metadata": {
    "collapsed": false,
    "pycharm": {
     "name": "#%%\n"
    }
   }
  },
  {
   "cell_type": "code",
   "execution_count": 75,
   "outputs": [],
   "source": [],
   "metadata": {
    "collapsed": false,
    "pycharm": {
     "name": "#%%\n"
    }
   }
  },
  {
   "cell_type": "code",
   "execution_count": 76,
   "outputs": [],
   "source": [
    "#hide\n",
    "def waste_some_time(num_times: int):\"\"\"\n",
    "\n",
    "    :param num_times: The number of times a function is called\n",
    "    :return:  None\n",
    "    \"\"\"\n",
    "    for _ in range(num_times):\n",
    "        sum([i**2 for i in range(10000)])"
   ],
   "metadata": {
    "collapsed": false,
    "pycharm": {
     "name": "#%%\n"
    }
   }
  },
  {
   "cell_type": "code",
   "execution_count": 2,
   "outputs": [
    {
     "name": "stdout",
     "output_type": "stream",
     "text": [
      "zsh:1: command not found: nbdev_build_lib\r\n"
     ]
    }
   ],
   "source": [
    "#hide\n",
    "!nbdev_build_lib"
   ],
   "metadata": {
    "collapsed": false,
    "pycharm": {
     "name": "#%%\n"
    }
   }
  },
  {
   "cell_type": "code",
   "execution_count": 3,
   "outputs": [],
   "source": [
    "#export\n",
    "\n",
    "\n",
    "class BlockTracker(object):\n",
    "    \n",
    "    def register(self, func):\n",
    "        \"\"\"Print the function signature and return value\"\"\"\n",
    "        @functools.wraps(func)\n",
    "        def wrapper_debug(*args, **kwargs):\n",
    "\n",
    "            if \"__kwdefaults__\" in dir(func):\n",
    "                d = func.__kwdefaults__\n",
    "                if d is not None and \"context\" in d and d[\"context\"] is None:\n",
    "                    d[\"context\"] = self\n",
    "\n",
    "            args_repr = [repr(a) for a in args]                      # 1\n",
    "            kwargs_repr = [f\"{k}={v!r}\" for k, v in kwargs.items()]  # 2\n",
    "            signature = \", \".join(args_repr + kwargs_repr)           # 3\n",
    "            start_time = time.perf_counter()    # 1\n",
    "            value = str(func(*args, **kwargs))\n",
    "            end_time = time.perf_counter()      # 2\n",
    "            run_time = end_time - start_time    # 3\n",
    "            self.command_list.append(self.BlockCommand(name=func.__name__,\n",
    "                                                       signature=signature,\n",
    "                                                       value=value,\n",
    "                                                       start=round(start_time, 2),\n",
    "                                                       total=round(run_time, 9),\n",
    "                                                       batch=self.batch,\n",
    "                                                       stanza=self.stanza\n",
    "                                                       ))\n",
    "\n",
    "            if \"__kwdefaults__\" in dir(func):\n",
    "                d = func.__kwdefaults__\n",
    "                if d is not None and \"context\" in d and d[\"context\"] == self:\n",
    "                    d[\"context\"] = None\n",
    "\n",
    "            return value\n",
    "        return wrapper_debug\n",
    "\n",
    "    def __init__(self, file_name, stanza):\n",
    "        self.path = file_name\n",
    "        self.command_list = []\n",
    "        self.code_list = []\n",
    "        self.stanza = stanza\n",
    "        self.start_time =  time.perf_counter()\n",
    "        self.batch = str(self.start_time)\n",
    "        self.BlockCommand = namedtuple(\"BlockCommand\", \"name signature value start total batch stanza\")\n",
    "\n",
    "    def data(self):\n",
    "        return pd.read_csv(self.path)\n",
    "\n",
    "    def __enter__(self):\n",
    "        self.start_time = time.perf_counter()\n",
    "        return self.register\n",
    "\n",
    "    def __exit__(self, type, value, traceback):\n",
    "        self.start_time = time.perf_counter()\n",
    "\n",
    "        for x in self.code_list:\n",
    "            x.name(x.signature)\n",
    "\n",
    "        with Path(self.path).open('a') as outfile:\n",
    "            writer = csv.writer(outfile)\n",
    "            writer.writerow(self.BlockCommand._fields)\n",
    "            writer.writerows(self.command_list)"
   ],
   "metadata": {
    "collapsed": false,
    "pycharm": {
     "name": "#%%\n"
    }
   }
  },
  {
   "cell_type": "code",
   "execution_count": 78,
   "outputs": [],
   "source": [],
   "metadata": {
    "collapsed": false,
    "pycharm": {
     "name": "#%%\n"
    }
   }
  },
  {
   "cell_type": "code",
   "execution_count": 79,
   "outputs": [
    {
     "name": "stdout",
     "output_type": "stream",
     "text": [
      "hello\n",
      "world\n"
     ]
    }
   ],
   "source": [
    "#hide\n",
    "with BlockTracker(\"./block.txt\",stanza=\"Mid file 2\") as f:\n",
    "    f(print)(\"hello\")\n",
    "    f(waste_some_time)(300)\n",
    "    f(print)(\"world\")\n",
    "    f(waste_some_time)(100)\n"
   ],
   "metadata": {
    "collapsed": false,
    "pycharm": {
     "name": "#%%\n"
    }
   }
  },
  {
   "cell_type": "code",
   "execution_count": 79,
   "outputs": [],
   "source": [],
   "metadata": {
    "collapsed": false,
    "pycharm": {
     "name": "#%%\n"
    }
   }
  },
  {
   "cell_type": "code",
   "execution_count": 3,
   "outputs": [
    {
     "ename": "NameError",
     "evalue": "name 'BlockTracker' is not defined",
     "output_type": "error",
     "traceback": [
      "\u001B[0;31m---------------------------------------------------------------------------\u001B[0m",
      "\u001B[0;31mNameError\u001B[0m                                 Traceback (most recent call last)",
      "\u001B[0;32m/var/folders/pn/37nlvq6s71n5zqv01hjfks1r0000gn/T/ipykernel_1649/3101384424.py\u001B[0m in \u001B[0;36m<module>\u001B[0;34m\u001B[0m\n\u001B[1;32m      2\u001B[0m \u001B[0mlastWrapper\u001B[0m \u001B[0;34m=\u001B[0m \u001B[0;34m\"\"\u001B[0m\u001B[0;34m\u001B[0m\u001B[0;34m\u001B[0m\u001B[0m\n\u001B[1;32m      3\u001B[0m \u001B[0;34m\u001B[0m\u001B[0m\n\u001B[0;32m----> 4\u001B[0;31m \u001B[0;32mdef\u001B[0m \u001B[0mcapture\u001B[0m\u001B[0;34m(\u001B[0m\u001B[0;34m*\u001B[0m\u001B[0margs\u001B[0m\u001B[0;34m,\u001B[0m \u001B[0mcontext\u001B[0m\u001B[0;34m:\u001B[0m\u001B[0mBlockTracker\u001B[0m \u001B[0;34m=\u001B[0m \u001B[0;32mNone\u001B[0m\u001B[0;34m)\u001B[0m\u001B[0;34m:\u001B[0m\u001B[0;34m\u001B[0m\u001B[0;34m\u001B[0m\u001B[0m\n\u001B[0m\u001B[1;32m      5\u001B[0m     \"\"\"\n\u001B[1;32m      6\u001B[0m \u001B[0;34m\u001B[0m\u001B[0m\n",
      "\u001B[0;31mNameError\u001B[0m: name 'BlockTracker' is not defined"
     ]
    }
   ],
   "source": [
    "#hide\n",
    "lastWrapper = \"\"\n",
    "\n",
    "def capture(*args, context:BlockTracker = None):\n",
    "\n",
    "    global lastWrapper\n",
    "    if not context is None:\n",
    "        lastWrapper = context\n",
    "    for x in args:\n",
    "        print(x)\n"
   ],
   "metadata": {
    "collapsed": false,
    "pycharm": {
     "name": "#%%\n"
    }
   }
  },
  {
   "cell_type": "code",
   "execution_count": 80,
   "outputs": [],
   "source": [],
   "metadata": {
    "collapsed": false,
    "pycharm": {
     "name": "#%%\n"
    }
   }
  },
  {
   "cell_type": "code",
   "execution_count": 81,
   "outputs": [
    {
     "name": "stdout",
     "output_type": "stream",
     "text": [
      "hello\n",
      "world\n",
      "human fish\n"
     ]
    },
    {
     "data": {
      "text/plain": "              name         signature value    start     total        batch  \\\n0          capture  'hello', 'world'  None  4860.93  0.000340  4860.931309   \n1            print      'human fish'  None  4860.93  0.000021  4860.931309   \n2  waste_some_time               100  None  4860.93  0.264946  4860.931309   \n\n       stanza  \n0  Mid file 2  \n1  Mid file 2  \n2  Mid file 2  ",
      "text/html": "<div>\n<style scoped>\n    .dataframe tbody tr th:only-of-type {\n        vertical-align: middle;\n    }\n\n    .dataframe tbody tr th {\n        vertical-align: top;\n    }\n\n    .dataframe thead th {\n        text-align: right;\n    }\n</style>\n<table border=\"1\" class=\"dataframe\">\n  <thead>\n    <tr style=\"text-align: right;\">\n      <th></th>\n      <th>name</th>\n      <th>signature</th>\n      <th>value</th>\n      <th>start</th>\n      <th>total</th>\n      <th>batch</th>\n      <th>stanza</th>\n    </tr>\n  </thead>\n  <tbody>\n    <tr>\n      <th>0</th>\n      <td>capture</td>\n      <td>'hello', 'world'</td>\n      <td>None</td>\n      <td>4860.93</td>\n      <td>0.000340</td>\n      <td>4860.931309</td>\n      <td>Mid file 2</td>\n    </tr>\n    <tr>\n      <th>1</th>\n      <td>print</td>\n      <td>'human fish'</td>\n      <td>None</td>\n      <td>4860.93</td>\n      <td>0.000021</td>\n      <td>4860.931309</td>\n      <td>Mid file 2</td>\n    </tr>\n    <tr>\n      <th>2</th>\n      <td>waste_some_time</td>\n      <td>100</td>\n      <td>None</td>\n      <td>4860.93</td>\n      <td>0.264946</td>\n      <td>4860.931309</td>\n      <td>Mid file 2</td>\n    </tr>\n  </tbody>\n</table>\n</div>"
     },
     "execution_count": 81,
     "metadata": {},
     "output_type": "execute_result"
    }
   ],
   "source": [
    "#hide\n",
    "with BlockTracker(\"./data/block.txt\",stanza=\"Mid file 2\") as f:\n",
    "    f(capture)(\"hello\",\"world\")\n",
    "    f(print)(\"human fish\")\n",
    "    f(waste_some_time)(100)\n",
    "lastWrapper.data().head()"
   ],
   "metadata": {
    "collapsed": false,
    "pycharm": {
     "name": "#%%\n"
    }
   }
  },
  {
   "cell_type": "code",
   "execution_count": 81,
   "outputs": [],
   "source": [],
   "metadata": {
    "collapsed": false,
    "pycharm": {
     "name": "#%%\n"
    }
   }
  },
  {
   "cell_type": "code",
   "execution_count": 81,
   "outputs": [],
   "source": [],
   "metadata": {
    "collapsed": false,
    "pycharm": {
     "name": "#%%\n"
    }
   }
  },
  {
   "cell_type": "code",
   "execution_count": 81,
   "outputs": [],
   "source": [],
   "metadata": {
    "collapsed": false,
    "pycharm": {
     "name": "#%%\n"
    }
   }
  },
  {
   "cell_type": "code",
   "execution_count": 81,
   "outputs": [],
   "source": [],
   "metadata": {
    "collapsed": false,
    "pycharm": {
     "name": "#%%\n"
    }
   }
  },
  {
   "cell_type": "code",
   "execution_count": 81,
   "outputs": [],
   "source": [],
   "metadata": {
    "collapsed": false,
    "pycharm": {
     "name": "#%%\n"
    }
   }
  },
  {
   "cell_type": "code",
   "execution_count": 81,
   "outputs": [],
   "source": [],
   "metadata": {
    "collapsed": false,
    "pycharm": {
     "name": "#%%\n"
    }
   }
  },
  {
   "cell_type": "code",
   "execution_count": 81,
   "outputs": [],
   "source": [],
   "metadata": {
    "collapsed": false,
    "pycharm": {
     "name": "#%%\n"
    }
   }
  }
 ],
 "metadata": {
  "kernelspec": {
   "display_name": "Python 3",
   "language": "python",
   "name": "python3"
  }
 },
 "nbformat": 4,
 "nbformat_minor": 2
}