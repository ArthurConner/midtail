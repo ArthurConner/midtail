{
 "cells": [
  {
   "cell_type": "code",
   "execution_count": 73,
   "metadata": {},
   "outputs": [],
   "source": [
    "# default_exp engine"
   ]
  },
  {
   "cell_type": "markdown",
   "metadata": {},
   "source": [
    "# longtail\n",
    "\n",
    "> API details."
   ]
  },
  {
   "cell_type": "code",
   "execution_count": 74,
   "metadata": {},
   "outputs": [],
   "source": [
    "#hide\n",
    "from nbdev.showdoc import *"
   ]
  },
  {
   "cell_type": "code",
   "execution_count": 8,
   "outputs": [],
   "source": [
    "#export\n",
    "import functools\n",
    "import time\n",
    "from collections import namedtuple\n",
    "import csv\n",
    "import pandas as pd\n",
    "from types import MethodType\n",
    "from pathlib import Path"
   ],
   "metadata": {
    "collapsed": false,
    "pycharm": {
     "name": "#%%\n"
    }
   }
  },
  {
   "cell_type": "code",
   "execution_count": 75,
   "outputs": [],
   "source": [],
   "metadata": {
    "collapsed": false,
    "pycharm": {
     "name": "#%%\n"
    }
   }
  },
  {
   "cell_type": "code",
   "execution_count": 4,
   "outputs": [],
   "source": [
    "#hide\n",
    "def waste_some_time(num_times: int):\n",
    "    for _ in range(num_times):\n",
    "        sum([i**2 for i in range(10000)])"
   ],
   "metadata": {
    "collapsed": false,
    "pycharm": {
     "name": "#%%\n"
    }
   }
  },
  {
   "cell_type": "code",
   "execution_count": 2,
   "outputs": [
    {
     "name": "stdout",
     "output_type": "stream",
     "text": [
      "zsh:1: command not found: nbdev_build_lib\r\n"
     ]
    }
   ],
   "source": [
    "#hide\n",
    "!nbdev_build_lib"
   ],
   "metadata": {
    "collapsed": false,
    "pycharm": {
     "name": "#%%\n"
    }
   }
  },
  {
   "cell_type": "code",
   "execution_count": 6,
   "outputs": [],
   "source": [
    "#export\n",
    "\n",
    "\n",
    "class BlockTracker(object):\n",
    "    \n",
    "    def register(self, func):\n",
    "        \"\"\"Print the function signature and return value\"\"\"\n",
    "        @functools.wraps(func)\n",
    "        def wrapper_debug(*args, **kwargs):\n",
    "\n",
    "            if \"__kwdefaults__\" in dir(func):\n",
    "                d = func.__kwdefaults__\n",
    "                if d is not None and \"context\" in d and d[\"context\"] is None:\n",
    "                    d[\"context\"] = self\n",
    "\n",
    "            args_repr = [repr(a) for a in args]                      # 1\n",
    "            kwargs_repr = [f\"{k}={v!r}\" for k, v in kwargs.items()]  # 2\n",
    "            signature = \", \".join(args_repr + kwargs_repr)           # 3\n",
    "            start_time = time.perf_counter()    # 1\n",
    "            value = str(func(*args, **kwargs))\n",
    "            end_time = time.perf_counter()      # 2\n",
    "            run_time = end_time - start_time    # 3\n",
    "            self.command_list.append(self.BlockCommand(name=func.__name__,\n",
    "                                                       signature=signature,\n",
    "                                                       value=value,\n",
    "                                                       start=round(start_time, 2),\n",
    "                                                       total=round(run_time, 9),\n",
    "                                                       batch=self.batch,\n",
    "                                                       stanza=self.stanza\n",
    "                                                       ))\n",
    "\n",
    "            if \"__kwdefaults__\" in dir(func):\n",
    "                d = func.__kwdefaults__\n",
    "                if d is not None and \"context\" in d and d[\"context\"] == self:\n",
    "                    d[\"context\"] = None\n",
    "\n",
    "            return value\n",
    "        return wrapper_debug\n",
    "\n",
    "    def __init__(self, file_name, stanza):\n",
    "        self.path = file_name\n",
    "        self.command_list = []\n",
    "        self.code_list = []\n",
    "        self.stanza = stanza\n",
    "        self.start_time =  time.perf_counter()\n",
    "        self.batch = str(self.start_time)\n",
    "        self.BlockCommand = namedtuple(\"BlockCommand\", \"name signature value start total batch stanza\")\n",
    "\n",
    "    def data(self):\n",
    "        return None\n",
    "        #return pd.read_csv(self.path)\n",
    "\n",
    "    def __enter__(self):\n",
    "        self.start_time = time.perf_counter()\n",
    "        return self.register\n",
    "\n",
    "    def __exit__(self, type, value, traceback):\n",
    "        self.start_time = time.perf_counter()\n",
    "\n",
    "        for x in self.code_list:\n",
    "            x.name(x.signature)\n",
    "\n",
    "        with Path(self.path).open('a') as outfile:\n",
    "            writer = csv.writer(outfile)\n",
    "            writer.writerow(self.BlockCommand._fields)\n",
    "            writer.writerows(self.command_list)"
   ],
   "metadata": {
    "collapsed": false,
    "pycharm": {
     "name": "#%%\n"
    }
   }
  },
  {
   "cell_type": "code",
   "execution_count": null,
   "outputs": [],
   "source": [],
   "metadata": {
    "collapsed": false,
    "pycharm": {
     "name": "#%%\n"
    }
   }
  },
  {
   "cell_type": "code",
   "execution_count": null,
   "outputs": [],
   "source": [
    "#hide\n",
    "with BlockTracker(\"./block.txt\",stanza=\"Mid file 2\") as f:\n",
    "    f(print)(\"hello\")\n",
    "    f(waste_some_time)(300)\n",
    "    f(print)(\"world\")\n",
    "    f(waste_some_time)(100)"
   ],
   "metadata": {
    "collapsed": false,
    "pycharm": {
     "name": "#%%\n"
    }
   }
  },
  {
   "cell_type": "code",
   "execution_count": 22,
   "outputs": [],
   "source": [
    "\n"
   ],
   "metadata": {
    "collapsed": false,
    "pycharm": {
     "name": "#%%\n"
    }
   }
  },
  {
   "cell_type": "code",
   "execution_count": 1,
   "outputs": [],
   "source": [
    "#export\n",
    "TrackerReg = [print]\n",
    "class Tracker(object):\n",
    "\n",
    "    def register(self, func):\n",
    "        \"\"\"Print the function signature and return value\"\"\"\n",
    "        @functools.wraps(func)\n",
    "        def wrapper_debug(self,*args, **kwargs):\n",
    "\n",
    "            if \"__kwdefaults__\" in dir(func):\n",
    "                d = func.__kwdefaults__\n",
    "                if d is not None and \"context\" in d and d[\"context\"] is None:\n",
    "                    d[\"context\"] = self\n",
    "\n",
    "            args_repr = [repr(a) for a in args]                      # 1\n",
    "            kwargs_repr = [f\"{k}={v!r}\" for k, v in kwargs.items()]  # 2\n",
    "            signature = \", \".join(args_repr + kwargs_repr)           # 3\n",
    "            start_time = time.perf_counter()    # 1\n",
    "            value = str(func(*args, **kwargs))\n",
    "            end_time = time.perf_counter()      # 2\n",
    "            run_time = end_time - start_time    # 3\n",
    "            self.command_list.append(self.BlockCommand(name=func.__name__,\n",
    "                                                       signature=signature,\n",
    "                                                       value=value,\n",
    "                                                       start=round(start_time, 2),\n",
    "                                                       total=round(run_time, 9),\n",
    "                                                       batch=self.batch,\n",
    "                                                       stanza=self.stanza\n",
    "                                                       ))\n",
    "\n",
    "            if \"__kwdefaults__\" in dir(func):\n",
    "                d = func.__kwdefaults__\n",
    "                if d is not None and \"context\" in d and d[\"context\"] == self:\n",
    "                    d[\"context\"] = None\n",
    "            return value\n",
    "        return wrapper_debug\n",
    "\n",
    "    def __init__(self, file_name, stanza):\n",
    "        self.path = file_name\n",
    "        self.command_list = []\n",
    "        self.code_list = []\n",
    "        self.stanza = stanza\n",
    "        self.start_time =  time.perf_counter()\n",
    "        self.batch = str(self.start_time)\n",
    "        self.BlockCommand = namedtuple(\"BlockCommand\", \"name signature value start total batch stanza\")\n",
    "        for x in TrackerReg:\n",
    "            self.__setattr__(x.__name__,MethodType(self.register(x),self))\n",
    "\n",
    "    def data(self):\n",
    "        return pd.read_csv(self.path)\n",
    "\n",
    "    def __enter__(self):\n",
    "        self.start_time = time.perf_counter()\n",
    "        return self\n",
    "\n",
    "    def __exit__(self, type, value, traceback):\n",
    "        self.start_time = time.perf_counter()\n",
    "\n",
    "        for x in self.code_list:\n",
    "            x.name(x.signature)\n",
    "\n",
    "        with Path(self.path).open('a') as outfile:\n",
    "            writer = csv.writer(outfile)\n",
    "            writer.writerow(self.BlockCommand._fields)\n",
    "            writer.writerows(self.command_list)\n",
    "\n"
   ],
   "metadata": {
    "collapsed": false,
    "pycharm": {
     "name": "#%%\n"
    }
   }
  },
  {
   "cell_type": "code",
   "execution_count": 31,
   "outputs": [
    {
     "name": "stdout",
     "output_type": "stream",
     "text": [
      "this words baloon\n",
      "hi\n"
     ]
    },
    {
     "data": {
      "text/plain": "8"
     },
     "execution_count": 31,
     "metadata": {},
     "output_type": "execute_result"
    }
   ],
   "source": [
    "#hide\n",
    "def myPrint(x):\n",
    "    print(f\"this words {x}\")\n",
    "\n",
    "TrackerReg.append(myPrint)\n",
    "\n",
    "t = Tracker(\"./data/block.txt\",stanza=\"Mid file 2\")\n",
    "t.myPrint(\"baloon\")\n",
    "8"
   ],
   "metadata": {
    "collapsed": false,
    "pycharm": {
     "name": "#%%\n"
    }
   }
  },
  {
   "cell_type": "code",
   "execution_count": 41,
   "outputs": [],
   "source": [
    "#hide\n",
    "lastWrapper = \"\"\n",
    "\n",
    "def capture(*args, context:Tracker = None):\n",
    "\n",
    "    global lastWrapper\n",
    "    if not context is None:\n",
    "        lastWrapper = context\n",
    "    for x in args:\n",
    "        print(x)\n",
    "\n",
    "TrackerReg.append(waste_some_time)\n",
    "TrackerReg.append(capture)"
   ],
   "metadata": {
    "collapsed": false,
    "pycharm": {
     "name": "#%%\n"
    }
   }
  },
  {
   "cell_type": "code",
   "execution_count": 1,
   "outputs": [],
   "source": [],
   "metadata": {
    "collapsed": false,
    "pycharm": {
     "name": "#%%\n"
    }
   }
  },
  {
   "cell_type": "code",
   "execution_count": 42,
   "outputs": [
    {
     "name": "stdout",
     "output_type": "stream",
     "text": [
      "hello\n",
      "world\n",
      "human fish\n"
     ]
    },
    {
     "data": {
      "text/plain": "<__main__.Tracker at 0x7fc5b82cc2b0>"
     },
     "execution_count": 42,
     "metadata": {},
     "output_type": "execute_result"
    }
   ],
   "source": [
    "#hide\n",
    "with Tracker(\"./data/block.txt\",stanza=\"Mid file 2\") as f:\n",
    "    f.capture(\"hello\",\"world\")\n",
    "    f.print(\"human fish\")\n",
    "    f.waste_some_time(100)\n",
    "lastWrapper"
   ],
   "metadata": {
    "collapsed": false,
    "pycharm": {
     "name": "#%%\n"
    }
   }
  },
  {
   "cell_type": "code",
   "execution_count": 81,
   "outputs": [],
   "source": [],
   "metadata": {
    "collapsed": false,
    "pycharm": {
     "name": "#%%\n"
    }
   }
  },
  {
   "cell_type": "code",
   "execution_count": 81,
   "outputs": [],
   "source": [],
   "metadata": {
    "collapsed": false,
    "pycharm": {
     "name": "#%%\n"
    }
   }
  },
  {
   "cell_type": "code",
   "execution_count": 81,
   "outputs": [],
   "source": [],
   "metadata": {
    "collapsed": false,
    "pycharm": {
     "name": "#%%\n"
    }
   }
  },
  {
   "cell_type": "code",
   "execution_count": 81,
   "outputs": [],
   "source": [],
   "metadata": {
    "collapsed": false,
    "pycharm": {
     "name": "#%%\n"
    }
   }
  },
  {
   "cell_type": "code",
   "execution_count": 81,
   "outputs": [],
   "source": [],
   "metadata": {
    "collapsed": false,
    "pycharm": {
     "name": "#%%\n"
    }
   }
  },
  {
   "cell_type": "code",
   "execution_count": 81,
   "outputs": [],
   "source": [],
   "metadata": {
    "collapsed": false,
    "pycharm": {
     "name": "#%%\n"
    }
   }
  },
  {
   "cell_type": "code",
   "execution_count": 81,
   "outputs": [],
   "source": [],
   "metadata": {
    "collapsed": false,
    "pycharm": {
     "name": "#%%\n"
    }
   }
  }
 ],
 "metadata": {
  "kernelspec": {
   "display_name": "Python 3",
   "language": "python",
   "name": "python3"
  }
 },
 "nbformat": 4,
 "nbformat_minor": 2
}